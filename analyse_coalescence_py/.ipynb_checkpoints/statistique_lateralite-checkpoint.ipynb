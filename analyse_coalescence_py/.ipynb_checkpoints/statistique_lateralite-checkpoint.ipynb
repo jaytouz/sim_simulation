{
 "cells": [
  {
   "cell_type": "code",
   "execution_count": 1,
   "metadata": {},
   "outputs": [],
   "source": [
    "from pickling import load_pickle, create_pickle\n",
    "import pandas as pd\n",
    "import numpy as np\n",
    "import matplotlib.pyplot as plt\n",
    "import seaborn as sns\n",
    "from scipy import stats\n",
    "import researchpy as rp\n",
    "import statsmodels as stsmod\n",
    "import choplo_statistique as cstats\n",
    "import os"
   ]
  },
  {
   "cell_type": "code",
   "execution_count": 2,
   "metadata": {},
   "outputs": [
    {
     "name": "stderr",
     "output_type": "stream",
     "text": [
      "C:\\Users\\tousi\\AppData\\Local\\conda\\conda\\envs\\python37\\lib\\site-packages\\pandas\\core\\indexes\\base.py:162: FutureWarning: the 'labels' keyword is deprecated, use 'codes' instead\n",
      "  return cls.__new__(cls, **d)\n"
     ]
    }
   ],
   "source": [
    "a_df = load_pickle('amp')\n",
    "a_side_df = load_pickle('side_amp')\n",
    "a_jt_df = load_pickle('amp_jt')\n",
    "a_st_df = load_pickle('amp_strat')\n",
    "a_missing_df = load_pickle('missing_amp')\n",
    "\n",
    "v_df = load_pickle('vit')\n",
    "v_side_df = load_pickle('side_vit')\n",
    "v_jt_df = load_pickle('vit_jt')\n",
    "v_st_df = load_pickle('vit_strat')\n",
    "v_missing_df = load_pickle('missing_vit')"
   ]
  },
  {
   "cell_type": "code",
   "execution_count": 3,
   "metadata": {},
   "outputs": [
    {
     "data": {
      "text/plain": [
       "0.0006944444444444445"
      ]
     },
     "execution_count": 3,
     "metadata": {},
     "output_type": "execute_result"
    }
   ],
   "source": [
    "v = [\"start_cm\", \"rel_pt\", \"amp_max_cop\", 'amp_max_pel', 'amp_max_c7', \"vel_max_cop\", 'vel_max_pel',\n",
    "                       'vel_max_c7', \"overshoot\", \"dcm\", \"dtml\", \"rcm\"]\n",
    "v_labels = [\"t_r (s)\", \"t_r (m)\", \"cm_max (s)\", \"cm_max (m)\", \"tML_max CdP (s)\", \"tML_max CdP (m)\", \n",
    "            \"tML_max Sb_k (s)\", \"tML_max Sb_k (m)\", \"tML_max Ms_k (s)\", \"tML_max Ms_k (m)\", \"V_max CdP (s)\", \n",
    "            \"V_max CdP (m/s)\", \"V_max Sb_k (s)\", \"V_max Sb_k (m/s)\", \"V_max Ms_k (s)\", \"V_max Ms_k (m/s)\", \n",
    "           \"overshoot (s)\", \"overshoot (m)\", \"dcm (s)\", \"dcm (m)\", \"dtml (s)\", \"dtml (m)\", \"rcm (s)\",  \"rcm (m)\"]\n",
    "m = len(v)*3*2\n",
    "p=0.05\n",
    "bon_p = p/m\n",
    "bon_p\n"
   ]
  },
  {
   "cell_type": "code",
   "execution_count": 4,
   "metadata": {},
   "outputs": [],
   "source": [
    "def print_significant_result(df, col_name = 'p-value', alpha = 0.000694):\n",
    "    print(df[col_name][df[col_name]<alpha])"
   ]
  },
  {
   "cell_type": "markdown",
   "metadata": {},
   "source": [
    "# Effet de côté"
   ]
  },
  {
   "cell_type": "code",
   "execution_count": 11,
   "metadata": {},
   "outputs": [],
   "source": [
    "idx = pd.IndexSlice\n",
    "#plit by side and remove index\n",
    "def split_df_by_side(df, lvl):\n",
    "    \"\"\"returns right and left\"\"\"\n",
    "    lvl = 'lvl_{}'.format(lvl)\n",
    "    df = df.loc[idx[lvl,:,:],:]\n",
    "    df.dropna(how='all', inplace=True)\n",
    "    right = df.loc[:, idx[:, :, 'right']]\n",
    "    right.dropna(how='all', inplace=True)\n",
    "    right.index = right.index.droplevel(0)\n",
    "    left =  df.loc[:, idx[:, :, 'left']]\n",
    "    left.dropna(how='all', inplace=True)\n",
    "    left.index = left.index.droplevel(0)\n",
    "    return right, left\n",
    "\n",
    "def create_new_side_df(r, l):\n",
    "    var_name = r.columns.get_level_values(0).unique()\n",
    "    hue = ['index', 'value']\n",
    "    side = ['right', 'left']\n",
    "    columns = pd.MultiIndex.from_product([var_name, hue, side])\n",
    "    players = list('player_{}'.format(i) for i in range(0, 10))\n",
    "    moves = range(15)\n",
    "    index = pd.MultiIndex.from_product([players, moves])\n",
    "    n_c = len(var_name) * 2 * 2\n",
    "    n_r = len(players) * len(moves)\n",
    "    data = np.empty((n_r, n_c))\n",
    "    data[:] = np.nan\n",
    "    \n",
    "    df = pd.DataFrame(data, index = index, columns=columns)\n",
    "    \n",
    "    # add data\n",
    "    df.loc[:,  idx[:, :,'right']] = r\n",
    "    df.loc[:,  idx[:, :,'left']] = l\n",
    "    \n",
    "    for v in var_name:\n",
    "        for h in hue:\n",
    "            median = np.nanmedian(df.loc[:, idx[v,h, :]].values)\n",
    "            for s in side:\n",
    "                df.loc[:, idx[v,h,s]].fillna(median, inplace=True)       \n",
    "    \n",
    "    return df\n",
    "    \n",
    "def convert_index_to_range_int(df):\n",
    "    idx1 = []\n",
    "    idx0 = df.index.get_level_values(0).unique()\n",
    "    for i in idx0:\n",
    "        n_moves = df.loc[i].index.values.size\n",
    "        idx1.append(n_moves)\n",
    "    arr1,arr2 = [],[]\n",
    "    p=0\n",
    "    for n_m in idx1:\n",
    "        for i in range(0,n_m):\n",
    "            arr1.append(idx0[p])\n",
    "            arr2.append(i)\n",
    "        p+=1\n",
    "    new_index = pd.MultiIndex.from_arrays([arr1,arr2])\n",
    "    df.index = new_index\n",
    "    return df\n",
    "\n",
    "def split_spatial_hue(p_table, transpose=True):\n",
    "    index_ = p_table.loc[:, idx[:,'index']]\n",
    "    value_ = p_table.loc[:, idx[:, 'value']]\n",
    "    index_.columns = index_ .columns.droplevel(1)\n",
    "    value_.columns = value_.columns.droplevel(1)\n",
    "    if transpose:\n",
    "        index_ = index_.transpose()\n",
    "        value_ = value_.transpose()\n",
    "    return index_, value_\n",
    "        \n",
    "    \n",
    "def get_pval_table(df, lvl):\n",
    "    r,l = split_df_by_side(df,lvl)\n",
    "    r = convert_index_to_range_int(r)\n",
    "    l = convert_index_to_range_int(l)\n",
    "    df = create_new_side_df(r,l)\n",
    "    idx = pd.IndexSlice\n",
    "    columns = df.columns.get_level_values(0).unique()\n",
    "    hue = ['index', 'value']\n",
    "    players = list('player_{}'.format(i) for i in range(0, 10))\n",
    "    pval = np.empty((len(players), len(columns) * len(hue)))\n",
    "    pval[:] = np.nan\n",
    "    pi=0\n",
    "    for p in players:\n",
    "        player = df.loc[p, :]\n",
    "        ci=0\n",
    "        for c in columns:\n",
    "            for h in hue:\n",
    "                d_side = player.loc[:, idx[c, h,:]]\n",
    "                d_side.columns = d_side.columns.droplevel()\n",
    "                d_side.columns = d_side.columns.droplevel()\n",
    "                describe, results = rp.ttest(d_side['right'], d_side['left'], paired=True)\n",
    "                pval[pi][ci]= results.loc[3].values[1]\n",
    "                ci+=1\n",
    "        pi+=1\n",
    "    mul_col = pd.MultiIndex.from_product([columns, hue])\n",
    "    dfp_val_uncorrected = pd.DataFrame(pval, index=players, columns=mul_col)\n",
    "    fdr =stsmod.stats.multitest.multipletests(pval.flatten(), method='fdr_bh')\n",
    "    dfp_val_corrected = pd.DataFrame(fdr[1].reshape(10,24), index=players, columns=mul_col)\n",
    "    return dfp_val_uncorrected, dfp_val_corrected\n",
    "\n",
    "def save_laterality_graph(df, name, save_fig=True):\n",
    "    \n",
    "    SMALL_SIZE = 14\n",
    "    MEDIUM_SIZE = 18\n",
    "    BIGGER_SIZE = 20\n",
    "\n",
    "    plt.rc('font', size=SMALL_SIZE)          # controls default text sizes\n",
    "    plt.rc('axes', titlesize=SMALL_SIZE)     # fontsize of the axes title\n",
    "    plt.rc('axes', labelsize=MEDIUM_SIZE)    # fontsize of the x and y labels\n",
    "    plt.rc('xtick', labelsize=SMALL_SIZE)    # fontsize of the tick labels\n",
    "    plt.rc('ytick', labelsize=SMALL_SIZE)    # fontsize of the tick labels\n",
    "    plt.rc('legend', fontsize=SMALL_SIZE)    # legend fontsize\n",
    "    plt.rc('figure', titlesize=BIGGER_SIZE) \n",
    "    \n",
    "    v_labels = [\"t_r (s)\", \"t_r (m)\", \"cm_max (s)\", \"cm_max (m)\", \"tML_max CdP (s)\", \"tML_max CdP (m)\", \n",
    "            \"tML_max Sb_k (s)\", \"tML_max Sb_k (m)\", \"tML_max Ms_k (s)\", \"tML_max Ms_k (m)\", \"V_max CdP (s)\", \n",
    "            \"V_max CdP (m/s)\", \"V_max Sb_k (s)\", \"V_max Sb_k (m/s)\", \"V_max Ms_k (s)\", \"V_max Ms_k (m/s)\", \n",
    "           \"overshoot (s)\", \"overshoot (m)\", \"dcm (s)\", \"dcm (m)\", \"dtml (s)\", \"dtml (m)\", \"rcm (s)\",  \"rcm (m)\"]\n",
    "    y_labels = list(\"Joueur-{}\".format(i) for i in range(1,11))\n",
    "    uncorr, corr0 = get_pval_table(df, 0)\n",
    "    uncorr, corr1 = get_pval_table(df, 1)\n",
    "    uncorr, corr2 = get_pval_table(df, 2)\n",
    "\n",
    "    #split hue and transpose()\n",
    "    corr0_index, corr0_value = split_spatial_hue(corr0)\n",
    "    corr1_index, corr1_value = split_spatial_hue(corr1)\n",
    "    corr2_index, corr2_value = split_spatial_hue(corr2)\n",
    "\n",
    "    fig, axes = plt.subplots(ncols=3, nrows=1, sharey=True, sharex=True, constrained_layout=True)\n",
    "    fig.set_size_inches(18.5, 10)\n",
    "    g0 = sns.heatmap(corr0, vmin=0, vmax=0.05, cmap=\"Greys_r\", linecolor='k', linewidth=2, ax=axes[0], xticklabels=v_labels, yticklabels=y_labels, cbar=False)\n",
    "    g1 = sns.heatmap(corr1, vmin=0, vmax=0.05, cmap=\"Greys_r\", linecolor='k', linewidth=2, ax=axes[1], xticklabels=v_labels, yticklabels=y_labels, cbar=False)\n",
    "    g2 = sns.heatmap(corr2, vmin=0, vmax=0.05, cmap=\"Greys_r\", linecolor='k', linewidth=2, ax=axes[2], xticklabels=v_labels, yticklabels=y_labels, cbar_kws={'label': 'p-value'})\n",
    "    cbar_ax = fig.axes[-1]\n",
    "    cbar_solids = cbar_ax.set_frame_on(True)\n",
    "    for ax in zip(axes, list(range(1,4))):\n",
    "        ax[0].set_title('Niveau {}'.format(ax[1]))\n",
    "        ax[0].set_xlabel('')\n",
    "        ax[0].set_yticklabels(y_labels, rotation=0)\n",
    "    # a1.set_title('without correction')\n",
    "    fig.suptitle(\"Représentation des différences entre le côté gauche et droite sur les participants et les différentes mesures\", y=1.05, fontsize=16)    \n",
    "\n",
    "    cwd = os.getcwd().replace('\\\\', '/')\n",
    "    png_name = cwd + '/output/lateralite/graph/lateralite_{}.png'.format(name)\n",
    "    plt.savefig(png_name, dpi=1000)\n",
    "    plt.close()"
   ]
  },
  {
   "cell_type": "code",
   "execution_count": 39,
   "metadata": {},
   "outputs": [
    {
     "name": "stderr",
     "output_type": "stream",
     "text": [
      "C:\\Users\\tousi\\AppData\\Local\\conda\\conda\\envs\\python37\\lib\\site-packages\\ipykernel_launcher.py:7: SettingWithCopyWarning: \n",
      "A value is trying to be set on a copy of a slice from a DataFrame\n",
      "\n",
      "See the caveats in the documentation: http://pandas.pydata.org/pandas-docs/stable/indexing.html#indexing-view-versus-copy\n",
      "  import sys\n",
      "C:\\Users\\tousi\\AppData\\Local\\conda\\conda\\envs\\python37\\lib\\site-packages\\ipykernel_launcher.py:9: SettingWithCopyWarning: \n",
      "A value is trying to be set on a copy of a slice from a DataFrame\n",
      "\n",
      "See the caveats in the documentation: http://pandas.pydata.org/pandas-docs/stable/indexing.html#indexing-view-versus-copy\n",
      "  if __name__ == '__main__':\n",
      "C:\\Users\\tousi\\AppData\\Local\\conda\\conda\\envs\\python37\\lib\\site-packages\\ipykernel_launcher.py:12: SettingWithCopyWarning: \n",
      "A value is trying to be set on a copy of a slice from a DataFrame\n",
      "\n",
      "See the caveats in the documentation: http://pandas.pydata.org/pandas-docs/stable/indexing.html#indexing-view-versus-copy\n",
      "  if sys.path[0] == '':\n"
     ]
    },
    {
     "ename": "KeyError",
     "evalue": "'tML'",
     "output_type": "error",
     "traceback": [
      "\u001b[1;31m---------------------------------------------------------------------------\u001b[0m",
      "\u001b[1;31mKeyError\u001b[0m                                  Traceback (most recent call last)",
      "\u001b[1;32m<ipython-input-39-03aff13ce552>\u001b[0m in \u001b[0;36m<module>\u001b[1;34m\u001b[0m\n\u001b[0;32m     14\u001b[0m \u001b[0mcbar_solids\u001b[0m \u001b[1;33m=\u001b[0m \u001b[0mcbar_ax\u001b[0m\u001b[1;33m.\u001b[0m\u001b[0mset_frame_on\u001b[0m\u001b[1;33m(\u001b[0m\u001b[1;32mTrue\u001b[0m\u001b[1;33m)\u001b[0m\u001b[1;33m\u001b[0m\u001b[0m\n\u001b[0;32m     15\u001b[0m \u001b[1;32mfor\u001b[0m \u001b[0max\u001b[0m \u001b[1;32min\u001b[0m \u001b[0mzip\u001b[0m\u001b[1;33m(\u001b[0m\u001b[0maxes\u001b[0m\u001b[1;33m,\u001b[0m \u001b[0mlist\u001b[0m\u001b[1;33m(\u001b[0m\u001b[0mrange\u001b[0m\u001b[1;33m(\u001b[0m\u001b[1;36m1\u001b[0m\u001b[1;33m,\u001b[0m\u001b[1;36m4\u001b[0m\u001b[1;33m)\u001b[0m\u001b[1;33m)\u001b[0m\u001b[1;33m)\u001b[0m\u001b[1;33m:\u001b[0m\u001b[1;33m\u001b[0m\u001b[0m\n\u001b[1;32m---> 16\u001b[1;33m     \u001b[0max\u001b[0m\u001b[1;33m[\u001b[0m\u001b[1;36m0\u001b[0m\u001b[1;33m]\u001b[0m\u001b[1;33m.\u001b[0m\u001b[0mset_title\u001b[0m\u001b[1;33m(\u001b[0m\u001b[1;34m'Niveau$_{tML}$ {}'\u001b[0m\u001b[1;33m.\u001b[0m\u001b[0mformat\u001b[0m\u001b[1;33m(\u001b[0m\u001b[0max\u001b[0m\u001b[1;33m[\u001b[0m\u001b[1;36m1\u001b[0m\u001b[1;33m]\u001b[0m\u001b[1;33m)\u001b[0m\u001b[1;33m)\u001b[0m\u001b[1;33m\u001b[0m\u001b[0m\n\u001b[0m\u001b[0;32m     17\u001b[0m     \u001b[0max\u001b[0m\u001b[1;33m[\u001b[0m\u001b[1;36m0\u001b[0m\u001b[1;33m]\u001b[0m\u001b[1;33m.\u001b[0m\u001b[0mset_yticklabels\u001b[0m\u001b[1;33m(\u001b[0m\u001b[0my_labels\u001b[0m\u001b[1;33m,\u001b[0m\u001b[0mrotation\u001b[0m\u001b[1;33m=\u001b[0m\u001b[1;34m'horizontal'\u001b[0m\u001b[1;33m)\u001b[0m\u001b[1;33m\u001b[0m\u001b[0m\n\u001b[0;32m     18\u001b[0m \u001b[1;31m# a1.set_title('without correction')\u001b[0m\u001b[1;33m\u001b[0m\u001b[1;33m\u001b[0m\u001b[0m\n",
      "\u001b[1;31mKeyError\u001b[0m: 'tML'"
     ]
    },
    {
     "data": {
      "image/png": "[encoded data removed]",
      "text/plain": [
       "<Figure size 1332x720 with 4 Axes>"
      ]
     },
     "metadata": {
      "needs_background": "light"
     },
     "output_type": "display_data"
    }
   ],
   "source": [
    "uncorr, corr0 = get_pval_table(a_side_df, 0)\n",
    "uncorr, corr1 = get_pval_table(a_side_df, 1)\n",
    "uncorr, corr2 = get_pval_table(a_side_df, 2)\n",
    "\n",
    "y_labels = list(\"Joueur-{}\".format(i) for i in range(1,11))\n",
    "\n",
    "fig, axes = plt.subplots(ncols=3, nrows=1, sharey=True, sharex=True, constrained_layout=True)\n",
    "fig.set_size_inches(18.5, 10)\n",
    "g0 = sns.heatmap(corr0, vmin=0, vmax=0.05, cmap=\"Greys_r\", linecolor='k', linewidth=2, ax=axes[0], xticklabels=v_labels, yticklabels=y_labels, cbar=False)\n",
    "g1 = sns.heatmap(corr1, vmin=0, vmax=0.05, cmap=\"Greys_r\", linecolor='k', linewidth=2, ax=axes[1], xticklabels=v_labels, yticklabels=y_labels, cbar=False)\n",
    "g2 = sns.heatmap(corr2, vmin=0, vmax=0.05, cmap=\"Greys_r\", linecolor='k', linewidth=2, ax=axes[2], xticklabels=v_labels, yticklabels=y_labels)\n",
    "\n",
    "cbar_ax = fig.axes[-1]\n",
    "cbar_solids = cbar_ax.set_frame_on(True)\n",
    "for ax in zip(axes, list(range(1,4))):\n",
    "    ax[0].set_title('Niveau$_{tML}$ {}'.format(ax[1]))\n",
    "    ax[0].set_yticklabels(y_labels,rotation='horizontal')\n",
    "# a1.set_title('without correction')\n",
    "fig.suptitle(\"Représentation des différences entre le côté gauche et droite sur les participants et les différentes mesures\", y=1.05, fontsize=16)"
   ]
  },
  {
   "cell_type": "code",
   "execution_count": 6,
   "metadata": {},
   "outputs": [],
   "source": [
    "# def split_spatial_hue(p_table, transpose=True):\n",
    "#     index_ = corr0.loc[:, idx[:,'index']]\n",
    "#     value_ = corr0.loc[:, idx[:, 'value']]\n",
    "#     index_.columns = index_ .columns.droplevel(1)\n",
    "#     value_.columns = value_columns.droplevel(1)\n",
    "#     if transpose:\n",
    "#         index_ = index_.transpose()\n",
    "#         value_ = value_.transpose()\n",
    "#     return index_, value_\n"
   ]
  },
  {
   "cell_type": "code",
   "execution_count": 8,
   "metadata": {},
   "outputs": [
    {
     "name": "stderr",
     "output_type": "stream",
     "text": [
      "C:\\Users\\tousi\\AppData\\Local\\conda\\conda\\envs\\python37\\lib\\site-packages\\ipykernel_launcher.py:7: SettingWithCopyWarning: \n",
      "A value is trying to be set on a copy of a slice from a DataFrame\n",
      "\n",
      "See the caveats in the documentation: http://pandas.pydata.org/pandas-docs/stable/indexing.html#indexing-view-versus-copy\n",
      "  import sys\n",
      "C:\\Users\\tousi\\AppData\\Local\\conda\\conda\\envs\\python37\\lib\\site-packages\\ipykernel_launcher.py:9: SettingWithCopyWarning: \n",
      "A value is trying to be set on a copy of a slice from a DataFrame\n",
      "\n",
      "See the caveats in the documentation: http://pandas.pydata.org/pandas-docs/stable/indexing.html#indexing-view-versus-copy\n",
      "  if __name__ == '__main__':\n",
      "C:\\Users\\tousi\\AppData\\Local\\conda\\conda\\envs\\python37\\lib\\site-packages\\ipykernel_launcher.py:12: SettingWithCopyWarning: \n",
      "A value is trying to be set on a copy of a slice from a DataFrame\n",
      "\n",
      "See the caveats in the documentation: http://pandas.pydata.org/pandas-docs/stable/indexing.html#indexing-view-versus-copy\n",
      "  if sys.path[0] == '':\n",
      "C:\\Users\\tousi\\AppData\\Local\\conda\\conda\\envs\\python37\\lib\\site-packages\\researchpy\\ttest.py:116: RuntimeWarning: divide by zero encountered in double_scalars\n",
      "  delta = (group1.mean() - group2.mean()) / group1.std()\n",
      "C:\\Users\\tousi\\AppData\\Local\\conda\\conda\\envs\\python37\\lib\\site-packages\\scipy\\stats\\_distn_infrastructure.py:1910: RuntimeWarning: invalid value encountered in multiply\n",
      "  lower_bound = self.a * scale + loc\n",
      "C:\\Users\\tousi\\AppData\\Local\\conda\\conda\\envs\\python37\\lib\\site-packages\\scipy\\stats\\_distn_infrastructure.py:1911: RuntimeWarning: invalid value encountered in multiply\n",
      "  upper_bound = self.b * scale + loc\n",
      "C:\\Users\\tousi\\AppData\\Local\\conda\\conda\\envs\\python37\\lib\\site-packages\\matplotlib\\font_manager.py:1241: UserWarning: findfont: Font family ['normal'] not found. Falling back to DejaVu Sans.\n",
      "  (prop.get_family(), self.defaultFamily[fontext]))\n",
      "C:\\Users\\tousi\\AppData\\Local\\conda\\conda\\envs\\python37\\lib\\site-packages\\matplotlib\\font_manager.py:1241: UserWarning: findfont: Font family ['normal'] not found. Falling back to DejaVu Sans.\n",
      "  (prop.get_family(), self.defaultFamily[fontext]))\n",
      "C:\\Users\\tousi\\AppData\\Local\\conda\\conda\\envs\\python37\\lib\\site-packages\\matplotlib\\font_manager.py:1241: UserWarning: findfont: Font family ['normal'] not found. Falling back to DejaVu Sans.\n",
      "  (prop.get_family(), self.defaultFamily[fontext]))\n"
     ]
    }
   ],
   "source": [
    "save_laterality_graph(v_side_df, 'vitesse', )\n",
    "save_laterality_graph(a_side_df, 'amplitude')"
   ]
  },
  {
   "cell_type": "code",
   "execution_count": null,
   "metadata": {},
   "outputs": [],
   "source": []
  },
  {
   "cell_type": "markdown",
   "metadata": {},
   "source": [
    "# "
   ]
  },
  {
   "cell_type": "code",
   "execution_count": null,
   "metadata": {},
   "outputs": [],
   "source": []
  },
  {
   "cell_type": "code",
   "execution_count": 152,
   "metadata": {},
   "outputs": [],
   "source": [
    "df = a_side_df\n",
    "idx = pd.IndexSlice\n",
    "columns = df.columns.get_level_values(0).unique()\n",
    "hue = ['index', 'value']\n",
    "players = list('player_{}'.format(i) for i in range(0, 10))\n",
    "pval = np.empty((len(players), len(columns) * len(hue)))\n",
    "pval[:] = np.nan\n",
    "pi=0\n",
    "for p in players:\n",
    "    player = df.loc[idx[:, p,:],:].groupby(level=2).mean()\n",
    "    ci=0\n",
    "    for c in columns:\n",
    "        for h in hue:\n",
    "            d_side = player.loc[:, idx[c, h,:]]\n",
    "            d_side.columns = d_side.columns.droplevel()\n",
    "            d_side.columns = d_side.columns.droplevel()\n",
    "            describe, results = rp.ttest(d_side['right'], d_side['left'], paired=True)\n",
    "            pval[pi][ci]= results.loc[3].values[1]\n",
    "            ci+=1\n",
    "    pi+=1\n",
    "mul_col = pd.MultiIndex.from_product([columns, hue])\n",
    "dfp_val_uncorrected = pd.DataFrame(pval, index=players, columns=mul_col)\n",
    "fdr =stsmod.stats.multitest.multipletests(pval.flatten(), method='fdr_bh')\n",
    "dfp_val_corrected = pd.DataFrame(fdr[1].reshape(10,24), index=players, columns=mul_col)\n"
   ]
  },
  {
   "cell_type": "code",
   "execution_count": 12,
   "metadata": {},
   "outputs": [],
   "source": [
    "def save_laterality_graph_2(df, name, hue='value',  save_fig=True):\n",
    "    \n",
    "    SMALL_SIZE = 14\n",
    "    MEDIUM_SIZE = 18\n",
    "    BIGGER_SIZE = 20\n",
    "\n",
    "    plt.rc('font', size=SMALL_SIZE)          # controls default text sizes\n",
    "    plt.rc('axes', titlesize=SMALL_SIZE)     # fontsize of the axes title\n",
    "    plt.rc('axes', labelsize=MEDIUM_SIZE)    # fontsize of the x and y labels\n",
    "    plt.rc('xtick', labelsize=SMALL_SIZE)    # fontsize of the tick labels\n",
    "    plt.rc('ytick', labelsize=SMALL_SIZE)    # fontsize of the tick labels\n",
    "    plt.rc('legend', fontsize=SMALL_SIZE)    # legend fontsize\n",
    "    plt.rc('figure', titlesize=BIGGER_SIZE) \n",
    "    \n",
    "    r_sub = \"$_r$\"\n",
    "    max_sub = \"$_m$\" + \"$_a$\" + \"$_x$\"\n",
    "    k_sub = \"$_k$\"\n",
    "    cm_sub = \"$_c$\" + \"$_m$\"\n",
    "    tML_sub = \"$_t$\" + \"$_M$\" + \"$_L$\"\n",
    "    cm_sub = \"$_c$\" + \"$_m$\"\n",
    "    unit_vel = 'm/s' if hue=='value' else 's'\n",
    "    unit= 'm' if hue=='value' else 's'\n",
    "    \n",
    "    v_labels = [\"t{sub} ({unit})\".format(sub=r_sub,unit=unit), \n",
    "                \"cm{sub} ({unit})\".format(sub=max_sub, unit=unit),  \n",
    "                \"tML{sub} CdP ({unit})\".format(sub=max_sub, unit=unit), \n",
    "                \"tML{sub1} Sb{sub2} ({unit})\".format(sub1=max_sub, sub2=k_sub ,unit=unit), \n",
    "                \"tML{sub1} Ms{sub2} ({unit})\".format(sub1=max_sub, sub2=k_sub, unit=unit), \n",
    "                \"V{sub} CdP ({unit})\".format(sub=max_sub, unit=unit_vel), \n",
    "                \"V{sub1} Sb{sub2} ({unit})\".format(sub1=max_sub, sub2=k_sub, unit=unit_vel),\n",
    "                \"V{sub1} Ms{sub2} ({unit})\".format(sub1=max_sub, sub2=k_sub, unit=unit_vel), \n",
    "                \"Err ({unit})\".format(sub=tML_sub, unit=unit), \n",
    "                \"d{sub} ({unit})\".format(sub=cm_sub, unit=unit),  \n",
    "                \"d{sub} ({unit})\".format(sub=tML_sub,unit=unit),  \n",
    "                \"r{sub} ({unit})\".format(sub=cm_sub, unit=unit)]\n",
    "    \n",
    "                                        \n",
    "    j_labels = list(\"Joueur {}\".format(i) for i in range(1,11))\n",
    "    \n",
    "    uncorr, corr0 = get_pval_table(df, 0)\n",
    "    uncorr, corr1 = get_pval_table(df, 1)\n",
    "    uncorr, corr2 = get_pval_table(df, 2)\n",
    "\n",
    "    #split hue and transpose()\n",
    "    corr0_index, corr0_value = split_spatial_hue(corr0)\n",
    "    corr1_index, corr1_value = split_spatial_hue(corr1)\n",
    "    corr2_index, corr2_value = split_spatial_hue(corr2)\n",
    "\n",
    "    data0=None\n",
    "    data1=None\n",
    "    data2=None\n",
    "    print(hue)\n",
    "    if hue=='value':\n",
    "        data0 = corr0_value\n",
    "        data1 = corr1_value\n",
    "        data2 = corr2_value\n",
    "        \n",
    "    if hue=='index':\n",
    "        data0 = corr0_index\n",
    "        data1 = corr1_index\n",
    "        data2 = corr2_index\n",
    "    \n",
    "\n",
    "    fig, axes = plt.subplots(ncols=3, nrows=1, sharey=True, sharex=True, constrained_layout=True)\n",
    "    fig.set_size_inches(18.5, 10)\n",
    "    g0 = sns.heatmap(data0, vmin=0, vmax=0.05, cmap=\"Greys_r\", linecolor='k', linewidth=2, ax=axes[0], xticklabels=j_labels, yticklabels=v_labels, cbar=False)\n",
    "    g1 = sns.heatmap(data1, vmin=0, vmax=0.05, cmap=\"Greys_r\", linecolor='k', linewidth=2, ax=axes[1], xticklabels=j_labels, yticklabels=v_labels, cbar=False)\n",
    "    g2 = sns.heatmap(data2, vmin=0, vmax=0.05, cmap=\"Greys_r\", linecolor='k', linewidth=2, ax=axes[2], xticklabels=j_labels, yticklabels=v_labels, cbar_kws={'label': 'p-value'})\n",
    "    cbar_ax = fig.axes[-1]\n",
    "    cbar_solids = cbar_ax.set_frame_on(True)\n",
    "    for ax in zip(axes, list(range(1,4))):\n",
    "        ax[0].set_title('Niveau {}'.format(ax[1]), weight = 'bold', fontsize=BIGGER_SIZE)\n",
    "        ax[0].set_xlabel('', fontsize=MEDIUM_SIZE)\n",
    "        ax[0].set_yticklabels(v_labels, rotation=0, fontsize=MEDIUM_SIZE)\n",
    "    # a1.set_title('without correction')\n",
    "    fig.suptitle(\"Représentation des différences entre le côté gauche et droite sur les participants et les différentes mesures\", y=1.05, fontsize=24)    \n",
    "\n",
    "    cwd = os.getcwd().replace('\\\\', '/')\n",
    "    png_name = cwd + '/output/lateralite/graph/lateralite_{}_{}.png'.format(hue, name)\n",
    "    plt.savefig(png_name, dpi=1000)\n",
    "    plt.close()\n",
    "    \n",
    "    return (data0, data1, data2)"
   ]
  },
  {
   "cell_type": "code",
   "execution_count": 13,
   "metadata": {},
   "outputs": [
    {
     "name": "stderr",
     "output_type": "stream",
     "text": [
      "C:\\Users\\tousi\\AppData\\Local\\conda\\conda\\envs\\python37\\lib\\site-packages\\ipykernel_launcher.py:7: SettingWithCopyWarning: \n",
      "A value is trying to be set on a copy of a slice from a DataFrame\n",
      "\n",
      "See the caveats in the documentation: http://pandas.pydata.org/pandas-docs/stable/indexing.html#indexing-view-versus-copy\n",
      "  import sys\n",
      "C:\\Users\\tousi\\AppData\\Local\\conda\\conda\\envs\\python37\\lib\\site-packages\\ipykernel_launcher.py:9: SettingWithCopyWarning: \n",
      "A value is trying to be set on a copy of a slice from a DataFrame\n",
      "\n",
      "See the caveats in the documentation: http://pandas.pydata.org/pandas-docs/stable/indexing.html#indexing-view-versus-copy\n",
      "  if __name__ == '__main__':\n",
      "C:\\Users\\tousi\\AppData\\Local\\conda\\conda\\envs\\python37\\lib\\site-packages\\ipykernel_launcher.py:12: SettingWithCopyWarning: \n",
      "A value is trying to be set on a copy of a slice from a DataFrame\n",
      "\n",
      "See the caveats in the documentation: http://pandas.pydata.org/pandas-docs/stable/indexing.html#indexing-view-versus-copy\n",
      "  if sys.path[0] == '':\n"
     ]
    },
    {
     "name": "stdout",
     "output_type": "stream",
     "text": [
      "index\n",
      "value\n",
      "index\n",
      "value\n"
     ]
    }
   ],
   "source": [
    "data_a_i=save_laterality_graph_2(a_side_df, 'amplitude', hue='index')\n",
    "data_a_v=save_laterality_graph_2(a_side_df, 'amplitude', hue='value')\n",
    "data_v_i=save_laterality_graph_2(v_side_df, 'vitesse', hue='index')\n",
    "data_v_v=save_laterality_graph_2(v_side_df, 'vitesse', hue='value')"
   ]
  },
  {
   "cell_type": "code",
   "execution_count": 10,
   "metadata": {},
   "outputs": [
    {
     "name": "stderr",
     "output_type": "stream",
     "text": [
      "C:\\Users\\tousi\\AppData\\Local\\conda\\conda\\envs\\python37\\lib\\site-packages\\ipykernel_launcher.py:7: SettingWithCopyWarning: \n",
      "A value is trying to be set on a copy of a slice from a DataFrame\n",
      "\n",
      "See the caveats in the documentation: http://pandas.pydata.org/pandas-docs/stable/indexing.html#indexing-view-versus-copy\n",
      "  import sys\n",
      "C:\\Users\\tousi\\AppData\\Local\\conda\\conda\\envs\\python37\\lib\\site-packages\\ipykernel_launcher.py:9: SettingWithCopyWarning: \n",
      "A value is trying to be set on a copy of a slice from a DataFrame\n",
      "\n",
      "See the caveats in the documentation: http://pandas.pydata.org/pandas-docs/stable/indexing.html#indexing-view-versus-copy\n",
      "  if __name__ == '__main__':\n",
      "C:\\Users\\tousi\\AppData\\Local\\conda\\conda\\envs\\python37\\lib\\site-packages\\ipykernel_launcher.py:12: SettingWithCopyWarning: \n",
      "A value is trying to be set on a copy of a slice from a DataFrame\n",
      "\n",
      "See the caveats in the documentation: http://pandas.pydata.org/pandas-docs/stable/indexing.html#indexing-view-versus-copy\n",
      "  if sys.path[0] == '':\n"
     ]
    }
   ],
   "source": [
    "up, cp = get_pval_table(a_side_df, 0)x`"
   ]
  },
  {
   "cell_type": "code",
   "execution_count": 13,
   "metadata": {},
   "outputs": [],
   "source": [
    "i, v = split_spatial_hue(cp)"
   ]
  },
  {
   "cell_type": "code",
   "execution_count": 23,
   "metadata": {},
   "outputs": [
    {
     "data": {
      "text/html": [
       "<div>\n",
       "<style scoped>\n",
       "    .dataframe tbody tr th:only-of-type {\n",
       "        vertical-align: middle;\n",
       "    }\n",
       "\n",
       "    .dataframe tbody tr th {\n",
       "        vertical-align: top;\n",
       "    }\n",
       "\n",
       "    .dataframe thead th {\n",
       "        text-align: right;\n",
       "    }\n",
       "</style>\n",
       "<table border=\"1\" class=\"dataframe\">\n",
       "  <thead>\n",
       "    <tr style=\"text-align: right;\">\n",
       "      <th></th>\n",
       "      <th>player_0</th>\n",
       "      <th>player_1</th>\n",
       "      <th>player_2</th>\n",
       "      <th>player_3</th>\n",
       "      <th>player_4</th>\n",
       "      <th>player_5</th>\n",
       "      <th>player_6</th>\n",
       "      <th>player_7</th>\n",
       "      <th>player_8</th>\n",
       "      <th>player_9</th>\n",
       "    </tr>\n",
       "  </thead>\n",
       "  <tbody>\n",
       "    <tr>\n",
       "      <th>start_cm</th>\n",
       "      <td>0.070154</td>\n",
       "      <td>0.035368</td>\n",
       "      <td>0.732190</td>\n",
       "      <td>0.392291</td>\n",
       "      <td>0.818775</td>\n",
       "      <td>0.699077</td>\n",
       "      <td>0.875423</td>\n",
       "      <td>0.759059</td>\n",
       "      <td>0.269400</td>\n",
       "      <td>0.035368</td>\n",
       "    </tr>\n",
       "    <tr>\n",
       "      <th>rel_pt</th>\n",
       "      <td>0.562633</td>\n",
       "      <td>0.193297</td>\n",
       "      <td>0.739412</td>\n",
       "      <td>0.585714</td>\n",
       "      <td>0.579220</td>\n",
       "      <td>0.833517</td>\n",
       "      <td>0.759059</td>\n",
       "      <td>0.908233</td>\n",
       "      <td>0.633412</td>\n",
       "      <td>0.397286</td>\n",
       "    </tr>\n",
       "    <tr>\n",
       "      <th>amp_max_cop</th>\n",
       "      <td>0.366462</td>\n",
       "      <td>0.786076</td>\n",
       "      <td>0.699077</td>\n",
       "      <td>0.759059</td>\n",
       "      <td>0.871654</td>\n",
       "      <td>0.882141</td>\n",
       "      <td>0.494873</td>\n",
       "      <td>0.286933</td>\n",
       "      <td>0.954151</td>\n",
       "      <td>0.759059</td>\n",
       "    </tr>\n",
       "    <tr>\n",
       "      <th>amp_max_pel</th>\n",
       "      <td>0.641769</td>\n",
       "      <td>0.759059</td>\n",
       "      <td>0.897069</td>\n",
       "      <td>0.286933</td>\n",
       "      <td>0.875423</td>\n",
       "      <td>0.877143</td>\n",
       "      <td>0.494873</td>\n",
       "      <td>0.738462</td>\n",
       "      <td>0.739412</td>\n",
       "      <td>0.699077</td>\n",
       "    </tr>\n",
       "    <tr>\n",
       "      <th>amp_max_c7</th>\n",
       "      <td>0.699077</td>\n",
       "      <td>0.723122</td>\n",
       "      <td>0.869115</td>\n",
       "      <td>0.171529</td>\n",
       "      <td>0.759059</td>\n",
       "      <td>0.603586</td>\n",
       "      <td>0.192686</td>\n",
       "      <td>0.585714</td>\n",
       "      <td>0.472918</td>\n",
       "      <td>0.739412</td>\n",
       "    </tr>\n",
       "    <tr>\n",
       "      <th>vel_max_cop</th>\n",
       "      <td>0.279220</td>\n",
       "      <td>0.877143</td>\n",
       "      <td>0.807759</td>\n",
       "      <td>0.539351</td>\n",
       "      <td>0.738462</td>\n",
       "      <td>0.902443</td>\n",
       "      <td>0.860133</td>\n",
       "      <td>0.699077</td>\n",
       "      <td>0.807759</td>\n",
       "      <td>0.648000</td>\n",
       "    </tr>\n",
       "    <tr>\n",
       "      <th>vel_max_pel</th>\n",
       "      <td>0.070154</td>\n",
       "      <td>0.875423</td>\n",
       "      <td>0.875423</td>\n",
       "      <td>0.633412</td>\n",
       "      <td>0.562633</td>\n",
       "      <td>0.875423</td>\n",
       "      <td>0.875423</td>\n",
       "      <td>0.948931</td>\n",
       "      <td>0.897069</td>\n",
       "      <td>0.818775</td>\n",
       "    </tr>\n",
       "    <tr>\n",
       "      <th>vel_max_c7</th>\n",
       "      <td>0.746628</td>\n",
       "      <td>0.795925</td>\n",
       "      <td>0.780156</td>\n",
       "      <td>0.673556</td>\n",
       "      <td>0.807056</td>\n",
       "      <td>0.443789</td>\n",
       "      <td>0.494873</td>\n",
       "      <td>0.875423</td>\n",
       "      <td>0.738462</td>\n",
       "      <td>0.942187</td>\n",
       "    </tr>\n",
       "    <tr>\n",
       "      <th>overshoot</th>\n",
       "      <td>0.286933</td>\n",
       "      <td>0.786076</td>\n",
       "      <td>0.699077</td>\n",
       "      <td>0.759059</td>\n",
       "      <td>0.875423</td>\n",
       "      <td>0.950318</td>\n",
       "      <td>0.494873</td>\n",
       "      <td>0.301565</td>\n",
       "      <td>0.954151</td>\n",
       "      <td>0.759059</td>\n",
       "    </tr>\n",
       "    <tr>\n",
       "      <th>dcm</th>\n",
       "      <td>0.008000</td>\n",
       "      <td>0.010909</td>\n",
       "      <td>0.633412</td>\n",
       "      <td>0.633412</td>\n",
       "      <td>0.699077</td>\n",
       "      <td>0.494873</td>\n",
       "      <td>0.894729</td>\n",
       "      <td>0.739412</td>\n",
       "      <td>0.328340</td>\n",
       "      <td>0.014000</td>\n",
       "    </tr>\n",
       "    <tr>\n",
       "      <th>dtml</th>\n",
       "      <td>0.633412</td>\n",
       "      <td>0.062609</td>\n",
       "      <td>0.759059</td>\n",
       "      <td>0.759059</td>\n",
       "      <td>0.759059</td>\n",
       "      <td>0.539840</td>\n",
       "      <td>0.781626</td>\n",
       "      <td>0.948931</td>\n",
       "      <td>0.366462</td>\n",
       "      <td>0.003429</td>\n",
       "    </tr>\n",
       "    <tr>\n",
       "      <th>rcm</th>\n",
       "      <td>0.035368</td>\n",
       "      <td>0.009600</td>\n",
       "      <td>0.603586</td>\n",
       "      <td>0.818775</td>\n",
       "      <td>0.530630</td>\n",
       "      <td>0.494873</td>\n",
       "      <td>0.855682</td>\n",
       "      <td>0.633412</td>\n",
       "      <td>0.699077</td>\n",
       "      <td>0.067000</td>\n",
       "    </tr>\n",
       "  </tbody>\n",
       "</table>\n",
       "</div>"
      ],
      "text/plain": [
       "             player_0  player_1  player_2  player_3  player_4  player_5  \\\n",
       "start_cm     0.070154  0.035368  0.732190  0.392291  0.818775  0.699077   \n",
       "rel_pt       0.562633  0.193297  0.739412  0.585714  0.579220  0.833517   \n",
       "amp_max_cop  0.366462  0.786076  0.699077  0.759059  0.871654  0.882141   \n",
       "amp_max_pel  0.641769  0.759059  0.897069  0.286933  0.875423  0.877143   \n",
       "amp_max_c7   0.699077  0.723122  0.869115  0.171529  0.759059  0.603586   \n",
       "vel_max_cop  0.279220  0.877143  0.807759  0.539351  0.738462  0.902443   \n",
       "vel_max_pel  0.070154  0.875423  0.875423  0.633412  0.562633  0.875423   \n",
       "vel_max_c7   0.746628  0.795925  0.780156  0.673556  0.807056  0.443789   \n",
       "overshoot    0.286933  0.786076  0.699077  0.759059  0.875423  0.950318   \n",
       "dcm          0.008000  0.010909  0.633412  0.633412  0.699077  0.494873   \n",
       "dtml         0.633412  0.062609  0.759059  0.759059  0.759059  0.539840   \n",
       "rcm          0.035368  0.009600  0.603586  0.818775  0.530630  0.494873   \n",
       "\n",
       "             player_6  player_7  player_8  player_9  \n",
       "start_cm     0.875423  0.759059  0.269400  0.035368  \n",
       "rel_pt       0.759059  0.908233  0.633412  0.397286  \n",
       "amp_max_cop  0.494873  0.286933  0.954151  0.759059  \n",
       "amp_max_pel  0.494873  0.738462  0.739412  0.699077  \n",
       "amp_max_c7   0.192686  0.585714  0.472918  0.739412  \n",
       "vel_max_cop  0.860133  0.699077  0.807759  0.648000  \n",
       "vel_max_pel  0.875423  0.948931  0.897069  0.818775  \n",
       "vel_max_c7   0.494873  0.875423  0.738462  0.942187  \n",
       "overshoot    0.494873  0.301565  0.954151  0.759059  \n",
       "dcm          0.894729  0.739412  0.328340  0.014000  \n",
       "dtml         0.781626  0.948931  0.366462  0.003429  \n",
       "rcm          0.855682  0.633412  0.699077  0.067000  "
      ]
     },
     "execution_count": 23,
     "metadata": {},
     "output_type": "execute_result"
    }
   ],
   "source": [
    "i"
   ]
  },
  {
   "cell_type": "code",
   "execution_count": 9,
   "metadata": {},
   "outputs": [
    {
     "name": "stderr",
     "output_type": "stream",
     "text": [
      "C:\\Users\\tousi\\AppData\\Local\\conda\\conda\\envs\\python37\\lib\\site-packages\\ipykernel_launcher.py:7: SettingWithCopyWarning: \n",
      "A value is trying to be set on a copy of a slice from a DataFrame\n",
      "\n",
      "See the caveats in the documentation: http://pandas.pydata.org/pandas-docs/stable/indexing.html#indexing-view-versus-copy\n",
      "  import sys\n",
      "C:\\Users\\tousi\\AppData\\Local\\conda\\conda\\envs\\python37\\lib\\site-packages\\ipykernel_launcher.py:9: SettingWithCopyWarning: \n",
      "A value is trying to be set on a copy of a slice from a DataFrame\n",
      "\n",
      "See the caveats in the documentation: http://pandas.pydata.org/pandas-docs/stable/indexing.html#indexing-view-versus-copy\n",
      "  if __name__ == '__main__':\n",
      "C:\\Users\\tousi\\AppData\\Local\\conda\\conda\\envs\\python37\\lib\\site-packages\\ipykernel_launcher.py:12: SettingWithCopyWarning: \n",
      "A value is trying to be set on a copy of a slice from a DataFrame\n",
      "\n",
      "See the caveats in the documentation: http://pandas.pydata.org/pandas-docs/stable/indexing.html#indexing-view-versus-copy\n",
      "  if sys.path[0] == '':\n",
      "C:\\Users\\tousi\\AppData\\Local\\conda\\conda\\envs\\python37\\lib\\site-packages\\researchpy\\ttest.py:116: RuntimeWarning: divide by zero encountered in double_scalars\n",
      "  delta = (group1.mean() - group2.mean()) / group1.std()\n",
      "C:\\Users\\tousi\\AppData\\Local\\conda\\conda\\envs\\python37\\lib\\site-packages\\scipy\\stats\\_distn_infrastructure.py:1910: RuntimeWarning: invalid value encountered in multiply\n",
      "  lower_bound = self.a * scale + loc\n",
      "C:\\Users\\tousi\\AppData\\Local\\conda\\conda\\envs\\python37\\lib\\site-packages\\scipy\\stats\\_distn_infrastructure.py:1911: RuntimeWarning: invalid value encountered in multiply\n",
      "  upper_bound = self.b * scale + loc\n"
     ]
    }
   ],
   "source": [
    "uncorr, a1 = get_pval_table(a_side_df, 0)\n",
    "uncorr, a2 = get_pval_table(a_side_df, 1)\n",
    "uncorr, a3 = get_pval_table(a_side_df, 2)\n",
    "uncorr, v1 = get_pval_table(v_side_df, 0)\n",
    "uncorr, v2 = get_pval_table(v_side_df, 1)\n",
    "uncorr, v3 = get_pval_table(v_side_df, 2)"
   ]
  },
  {
   "cell_type": "code",
   "execution_count": 41,
   "metadata": {},
   "outputs": [],
   "source": [
    "count_total = 0\n",
    "count_ptrue = 0\n",
    "for df in [a1,a2,a3,v1,v2,v3]:\n",
    "    count_total += df.values.size\n",
    "    count_ptrue += (df.values < 0.05).sum()\n",
    "    "
   ]
  },
  {
   "cell_type": "code",
   "execution_count": 42,
   "metadata": {},
   "outputs": [
    {
     "name": "stdout",
     "output_type": "stream",
     "text": [
      "1440\n"
     ]
    }
   ],
   "source": [
    "print(count_total)"
   ]
  },
  {
   "cell_type": "code",
   "execution_count": 43,
   "metadata": {},
   "outputs": [
    {
     "name": "stdout",
     "output_type": "stream",
     "text": [
      "46\n"
     ]
    }
   ],
   "source": [
    "print(count_ptrue)"
   ]
  },
  {
   "cell_type": "code",
   "execution_count": 48,
   "metadata": {},
   "outputs": [
    {
     "data": {
      "text/plain": [
       "3.194444444444444"
      ]
     },
     "execution_count": 48,
     "metadata": {},
     "output_type": "execute_result"
    }
   ],
   "source": [
    "(count_ptrue/count_total)*100"
   ]
  },
  {
   "cell_type": "code",
   "execution_count": 47,
   "metadata": {},
   "outputs": [
    {
     "data": {
      "text/plain": [
       "1440"
      ]
     },
     "execution_count": 47,
     "metadata": {},
     "output_type": "execute_result"
    }
   ],
   "source": [
    "12*10*3*4"
   ]
  },
  {
   "cell_type": "code",
   "execution_count": null,
   "metadata": {},
   "outputs": [],
   "source": []
  }
 ],
 "metadata": {
  "kernelspec": {
   "display_name": "Python 3",
   "language": "python",
   "name": "python3"
  },
  "language_info": {
   "codemirror_mode": {
    "name": "ipython",
    "version": 3
   },
   "file_extension": ".py",
   "mimetype": "text/x-python",
   "name": "python",
   "nbconvert_exporter": "python",
   "pygments_lexer": "ipython3",
   "version": "3.7.0"
  }
 },
 "nbformat": 4,
 "nbformat_minor": 2
}
